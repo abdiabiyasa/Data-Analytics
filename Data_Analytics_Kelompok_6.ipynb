{
  "cells": [
    {
      "cell_type": "markdown",
      "id": "XxIdPkLMKqpL",
      "metadata": {
        "id": "XxIdPkLMKqpL"
      },
      "source": [
        "# **Import Library **"
      ]
    },
    {
      "cell_type": "code",
      "execution_count": null,
      "id": "e6a7a020",
      "metadata": {
        "colab": {
          "base_uri": "https://localhost:8080/",
          "height": 106
        },
        "id": "e6a7a020",
        "outputId": "8dbd587f-1d7e-4e9b-b961-976e4a5a7af1"
      },
      "outputs": [
        {
          "ename": "SyntaxError",
          "evalue": "invalid syntax (<ipython-input-1-e60daa928a0e>, line 5)",
          "output_type": "error",
          "traceback": [
            "\u001b[0;36m  File \u001b[0;32m\"<ipython-input-1-e60daa928a0e>\"\u001b[0;36m, line \u001b[0;32m5\u001b[0m\n\u001b[0;31m    import sklearn.cluster import KMeans\u001b[0m\n\u001b[0m                           ^\u001b[0m\n\u001b[0;31mSyntaxError\u001b[0m\u001b[0;31m:\u001b[0m invalid syntax\n"
          ]
        }
      ],
      "source": [
        "import pandas as pd\n",
        "import numpy as np\n",
        "import matplotlib.pyplot as plt\n",
        "import sea"
      ]
    },
    {
      "cell_type": "code",
      "execution_count": null,
      "id": "d8a5d647",
      "metadata": {
        "colab": {
          "background_save": true
        },
        "id": "d8a5d647"
      },
      "outputs": [],
      "source": [
        "df = pd.read_csv(\"GlobalWeatherRepository - Copy (2).csv\", delimiter=';')"
      ]
    },
    {
      "cell_type": "code",
      "execution_count": null,
      "id": "18c683e4",
      "metadata": {
        "colab": {
          "background_save": true
        },
        "id": "18c683e4"
      },
      "outputs": [],
      "source": [
        "df.head()"
      ]
    },
    {
      "cell_type": "code",
      "execution_count": null,
      "id": "Z0uyGeMUF5IQ",
      "metadata": {
        "colab": {
          "background_save": true
        },
        "id": "Z0uyGeMUF5IQ"
      },
      "outputs": [],
      "source": [
        "df.shape"
      ]
    },
    {
      "cell_type": "code",
      "execution_count": null,
      "id": "2rAdz1CAnfla",
      "metadata": {
        "colab": {
          "background_save": true
        },
        "id": "2rAdz1CAnfla"
      },
      "outputs": [],
      "source": [
        "df = pd.read_csv(\"GlobalWeatherRepository - Copy (2).csv\", delimiter=';')"
      ]
    },
    {
      "cell_type": "code",
      "execution_count": null,
      "id": "ogILTV0xng0z",
      "metadata": {
        "colab": {
          "background_save": true
        },
        "id": "ogILTV0xng0z"
      },
      "outputs": [],
      "source": [
        "df.head()"
      ]
    },
    {
      "cell_type": "code",
      "execution_count": null,
      "id": "b1aafca4",
      "metadata": {
        "colab": {
          "background_save": true
        },
        "id": "b1aafca4",
        "scrolled": true
      },
      "outputs": [],
      "source": [
        "df.info()"
      ]
    },
    {
      "cell_type": "code",
      "execution_count": null,
      "id": "918b662a",
      "metadata": {
        "colab": {
          "background_save": true
        },
        "id": "918b662a"
      },
      "outputs": [],
      "source": [
        "df2 = df[df['timezone'] == 'Asia']"
      ]
    },
    {
      "cell_type": "code",
      "execution_count": null,
      "id": "56a5b803",
      "metadata": {
        "colab": {
          "background_save": true
        },
        "id": "56a5b803"
      },
      "outputs": [],
      "source": [
        "df2.head()"
      ]
    },
    {
      "cell_type": "code",
      "execution_count": null,
      "id": "ba969172",
      "metadata": {
        "colab": {
          "background_save": true
        },
        "id": "ba969172"
      },
      "outputs": [],
      "source": [
        "df2['timezone'].value_counts()"
      ]
    },
    {
      "cell_type": "code",
      "execution_count": null,
      "id": "0y48hsg2xXXx",
      "metadata": {
        "colab": {
          "background_save": true
        },
        "id": "0y48hsg2xXXx"
      },
      "outputs": [],
      "source": [
        "df2 = df2.drop(columns = 'timezone')"
      ]
    },
    {
      "cell_type": "code",
      "execution_count": null,
      "id": "VIz_ZURQ001F",
      "metadata": {
        "colab": {
          "background_save": true
        },
        "id": "VIz_ZURQ001F"
      },
      "outputs": [],
      "source": [
        "df2 = df2.dropna()"
      ]
    },
    {
      "cell_type": "code",
      "execution_count": null,
      "id": "5-2AAnrzwz2K",
      "metadata": {
        "colab": {
          "background_save": true
        },
        "id": "5-2AAnrzwz2K"
      },
      "outputs": [],
      "source": [
        "from sklearn.preprocessing import LabelEncoder\n",
        "\n",
        "label_encoder = LabelEncoder()\n",
        "\n",
        "for i in df2:\n",
        "  if df2[i].dtypes == 'object':\n",
        "    df2[i] = label_encoder.fit_transform(df2[i])"
      ]
    },
    {
      "cell_type": "code",
      "execution_count": null,
      "id": "wyDLEeCUqT7l",
      "metadata": {
        "colab": {
          "background_save": true
        },
        "id": "wyDLEeCUqT7l"
      },
      "outputs": [],
      "source": [
        "import seaborn as sns\n",
        "import matplotlib.pyplot as plt\n",
        "\n",
        "plt.figure(figsize = (15,10))\n",
        "sns.heatmap(df2.corr(), annot=True)\n",
        "plt.show()"
      ]
    },
    {
      "cell_type": "code",
      "execution_count": null,
      "id": "7a742d0f",
      "metadata": {
        "colab": {
          "background_save": true
        },
        "id": "7a742d0f"
      },
      "outputs": [],
      "source": [
        "df3 = df2.drop(columns = ['temperature_fahrenheit', 'wind_kph', 'precip_in', 'feels_like_fahrenheit', 'visibility_miles', 'gust_kph'])"
      ]
    },
    {
      "cell_type": "code",
      "execution_count": null,
      "id": "4987d213",
      "metadata": {
        "colab": {
          "background_save": true
        },
        "id": "4987d213"
      },
      "outputs": [],
      "source": [
        "df3.head()"
      ]
    },
    {
      "cell_type": "code",
      "execution_count": null,
      "id": "169e7bec",
      "metadata": {
        "colab": {
          "background_save": true
        },
        "id": "169e7bec"
      },
      "outputs": [],
      "source": [
        "df3.shape"
      ]
    },
    {
      "cell_type": "code",
      "execution_count": null,
      "id": "059a2951",
      "metadata": {
        "colab": {
          "background_save": true
        },
        "id": "059a2951"
      },
      "outputs": [],
      "source": [
        "df3.info()"
      ]
    },
    {
      "cell_type": "code",
      "execution_count": null,
      "id": "47cef206",
      "metadata": {
        "colab": {
          "background_save": true
        },
        "id": "47cef206"
      },
      "outputs": [],
      "source": [
        "x = df3.drop(columns = 'condition_text')\n",
        "y = df3['condition_text']"
      ]
    },
    {
      "cell_type": "code",
      "execution_count": null,
      "id": "0062c419",
      "metadata": {
        "colab": {
          "background_save": true
        },
        "id": "0062c419"
      },
      "outputs": [],
      "source": [
        "x.info()"
      ]
    },
    {
      "cell_type": "code",
      "execution_count": null,
      "id": "de824253",
      "metadata": {
        "colab": {
          "background_save": true
        },
        "id": "de824253"
      },
      "outputs": [],
      "source": [
        "from sklearn.model_selection import train_test_split\n",
        "\n",
        "x_train, x_test, y_train, y_test = train_test_split(x, y, test_size=0.2, random_state=0)\n",
        "x_train, x_val, y_train, y_val = train_test_split(x_train, y_train, test_size=0.2, random_state=0)"
      ]
    },
    {
      "cell_type": "code",
      "execution_count": null,
      "id": "SietayUAc6Ij",
      "metadata": {
        "colab": {
          "background_save": true
        },
        "id": "SietayUAc6Ij"
      },
      "outputs": [],
      "source": [
        "# Hasil Pembagian Data:\n",
        "# Set Training: 64% dari total data (80% dari 80%).\n",
        "# Set Validasi: 16% dari total data (20% dari 80%).\n",
        "# Set Testing: 20% dari total data."
      ]
    },
    {
      "cell_type": "code",
      "execution_count": null,
      "id": "-TrpMda6ciqT",
      "metadata": {
        "colab": {
          "background_save": true
        },
        "id": "-TrpMda6ciqT"
      },
      "outputs": [],
      "source": [
        "print(\"Jumlah data di set training (x_train):\", x_train.shape[0])\n",
        "print(\"Jumlah data di set training (y_train):\", y_train.shape[0])\n",
        "print(\"Jumlah data di set validasi (x_val):\", x_val.shape[0])\n",
        "print(\"Jumlah data di set validasi (y_val):\", y_val.shape[0])\n",
        "print(\"Jumlah data di set testing (x_test):\", x_test.shape[0])\n",
        "print(\"Jumlah data di set testing (y_test):\", y_test.shape[0])"
      ]
    },
    {
      "cell_type": "code",
      "execution_count": null,
      "id": "aRA1I70N5m9K",
      "metadata": {
        "colab": {
          "background_save": true
        },
        "id": "aRA1I70N5m9K"
      },
      "outputs": [],
      "source": [
        "from sklearn.ensemble import RandomForestClassifier\n",
        "from sklearn.tree import DecisionTreeClassifier"
      ]
    },
    {
      "cell_type": "code",
      "execution_count": null,
      "id": "2zzv6BZg3OqS",
      "metadata": {
        "colab": {
          "background_save": true
        },
        "id": "2zzv6BZg3OqS"
      },
      "outputs": [],
      "source": [
        "dtModel = DecisionTreeClassifier()\n",
        "dtModel.fit(x_train, y_train)"
      ]
    },
    {
      "cell_type": "code",
      "execution_count": null,
      "id": "ddea969d",
      "metadata": {
        "colab": {
          "background_save": true
        },
        "id": "ddea969d"
      },
      "outputs": [],
      "source": [
        "rfModel = RandomForestClassifier(n_estimators=10)\n",
        "rfModel.fit(x_train, y_train)"
      ]
    },
    {
      "cell_type": "code",
      "execution_count": null,
      "id": "72a8ed0f",
      "metadata": {
        "colab": {
          "background_save": true
        },
        "id": "72a8ed0f"
      },
      "outputs": [],
      "source": [
        "y_predict_dt = dtModel.predict(x_val)\n",
        "y_predict_rf = rfModel.predict(x_val)"
      ]
    },
    {
      "cell_type": "markdown",
      "id": "xTH2fyiFuMym",
      "metadata": {
        "id": "xTH2fyiFuMym"
      },
      "source": [
        "Ini adalah hasil model Decision Tree & Random Forest dengan 10 dt & data validation"
      ]
    },
    {
      "cell_type": "code",
      "execution_count": null,
      "id": "ec407ffe",
      "metadata": {
        "colab": {
          "background_save": true
        },
        "id": "ec407ffe",
        "scrolled": true
      },
      "outputs": [],
      "source": [
        "from sklearn.metrics import accuracy_score\n",
        "\n",
        "# Decision Tree\n",
        "accuracyDT = accuracy_score(y_val, y_predict_dt)\n",
        "print(\"Accuracy by Decision Tree:\", accuracyDT * 100,\"%\")\n",
        "\n",
        "# Random Forest\n",
        "accuracyRF = accuracy_score(y_val, y_predict_rf)\n",
        "print(\"Accuracy by Random Forest:\", accuracyRF* 100,\"%\")"
      ]
    },
    {
      "cell_type": "code",
      "execution_count": null,
      "id": "ZyIAIwSsaABk",
      "metadata": {
        "colab": {
          "background_save": true
        },
        "id": "ZyIAIwSsaABk"
      },
      "outputs": [],
      "source": [
        "rfModel = RandomForestClassifier(n_estimators=100)\n",
        "rfModel.fit(x_train, y_train)"
      ]
    },
    {
      "cell_type": "code",
      "execution_count": null,
      "id": "uUUVSWlUaABv",
      "metadata": {
        "colab": {
          "background_save": true
        },
        "id": "uUUVSWlUaABv"
      },
      "outputs": [],
      "source": [
        "y_predict_dt = dtModel.predict(x_val)\n",
        "y_predict_rf = rfModel.predict(x_val)"
      ]
    },
    {
      "cell_type": "markdown",
      "id": "sWzLl92XummT",
      "metadata": {
        "id": "sWzLl92XummT"
      },
      "source": [
        "Ini adalah hasil model Decision Tree & Random Forest dengan 100 dt & data validation"
      ]
    },
    {
      "cell_type": "code",
      "execution_count": null,
      "id": "kZ9RSS4NaABv",
      "metadata": {
        "colab": {
          "background_save": true
        },
        "id": "kZ9RSS4NaABv",
        "scrolled": true
      },
      "outputs": [],
      "source": [
        "from sklearn.metrics import accuracy_score\n",
        "\n",
        "# Decision Tree\n",
        "accuracyDT = accuracy_score(y_val, y_predict_dt)\n",
        "print(\"Accuracy by Decision Tree:\", accuracyDT * 100,\"%\")\n",
        "\n",
        "# Random Forest\n",
        "accuracyRF = accuracy_score(y_val, y_predict_rf)\n",
        "print(\"Accuracy by Random Forest:\", accuracyRF* 100,\"%\")"
      ]
    },
    {
      "cell_type": "code",
      "execution_count": null,
      "id": "z-fPNhL8b1Kf",
      "metadata": {
        "colab": {
          "background_save": true
        },
        "id": "z-fPNhL8b1Kf"
      },
      "outputs": [],
      "source": [
        "y_predict_dt = dtModel.predict(x_test)\n",
        "y_predict_rf = rfModel.predict(x_test)"
      ]
    },
    {
      "cell_type": "markdown",
      "id": "a7tYnojgup_M",
      "metadata": {
        "id": "a7tYnojgup_M"
      },
      "source": [
        "Ini adalah hasil model Decision Tree & Random Forest dengan 100 dt tanpa data validation"
      ]
    },
    {
      "cell_type": "code",
      "execution_count": null,
      "id": "5uNLTk0Ab1Kf",
      "metadata": {
        "colab": {
          "background_save": true
        },
        "id": "5uNLTk0Ab1Kf",
        "scrolled": true
      },
      "outputs": [],
      "source": [
        "from sklearn.metrics import accuracy_score\n",
        "\n",
        "# Decision Tree\n",
        "accuracyDT = accuracy_score(y_test, y_predict_dt)\n",
        "print(\"Accuracy by Decision Tree:\", accuracyDT * 100,\"%\")\n",
        "\n",
        "# Random Forest\n",
        "accuracyRF = accuracy_score(y_test, y_predict_rf)\n",
        "print(\"Accuracy by Random Forest:\", accuracyRF* 100,\"%\")"
      ]
    }
  ],
  "metadata": {
    "colab": {
      "provenance": []
    },
    "kernelspec": {
      "display_name": "Python 3 (ipykernel)",
      "language": "python",
      "name": "python3"
    },
    "language_info": {
      "codemirror_mode": {
        "name": "ipython",
        "version": 3
      },
      "file_extension": ".py",
      "mimetype": "text/x-python",
      "name": "python",
      "nbconvert_exporter": "python",
      "pygments_lexer": "ipython3",
      "version": "3.9.12"
    }
  },
  "nbformat": 4,
  "nbformat_minor": 5
}